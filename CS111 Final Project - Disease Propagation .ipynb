{
 "cells": [
  {
   "cell_type": "markdown",
   "metadata": {},
   "source": [
    "## The Spread of Infectious Disease\n",
    "\n",
    "A big issue in policy making in the urbanized 21st century is vaccination. How do we stop the spread of disease? How do we balance the cost of vaccination with the cost of mass infection? Should we vaccinate everyone for everything? Is this an optimal approach? Could we find a way to decide who to vaccinate in order to limit the spread, or even cause heard immunity, for minimum cost and minimum vaccinations? How can we apply different modelling techniques to answer these questions?\n",
    "\n",
    "In this paper, I am going to discuss two ways to model the disease propagation problem: ODEs and Networks. I will be discussing ODEs in general useage, and applying networks to my example.\n",
    "\n",
    "In order to illustrate the spread of disease problem, I am going to talk about a study conducted by Marcel Salathéa, Maria Kazandjievab, Jung Woo Leeb, Philip Levisb, Marcus W. Feldmana, and James H. Jones from Stanford University. To write their paper, 'A High-Resolution Human Contact Network for Infectious Disease Transmission', they chose a public high school in the USA, and tagged each individual with a precise GPS necklace. The GPS tracked where they went inside the school, and logged evey time they came within 3 meters of another GPS unit. 3m is the approximate distance that diseases can travel on spit, cough and sneeze droplets.\n",
    "\n",
    "In mapping the close proximity interactions between students and teachers throughout the day, the researchers were able to reconstruct the social network of the school, and simulate the spread of disease in the closed population.\n"
   ]
  },
  {
   "cell_type": "markdown",
   "metadata": {},
   "source": [
    " ## ODEs, Buckingham Pi Scaling and Disease Propagation\n",
    "\n",
    "### Assumptions\n",
    "\n",
    "The spread of disease is often modeled using ODEs, usually using the SIR model. The SIR model separates people into three categories: Susceptibles, Infectious and Recovered. Susceptible people can get the disease, Infectious people are infected and may infect usceptibles, and Recovered people have recovered from the disease and are now immune.\n",
    "\n",
    "- The population is fixed\n",
    "- The only way to leave the Susceptible group is to become Infectious, the only way to stop being Infectious is to become Recovered, which gives you immunity.\n",
    "- Demographic changes are not considered\n",
    "\n",
    "### Calculations\n",
    "\n",
    "We use $S(t)$, $I(t)$ and $R(t)$ to represent the number of people in each category at time $t$. \n",
    "\n",
    "This model can be expressed in a system of three ODEs:\n",
    "$$\\frac{dS}{dt}= -\\beta SI,$$ $$\\frac{dI}{dt}= \\beta SI - \\gamma I,$$ $$\\frac{dR}{dt}= \\gamma I,$$\n",
    "Where $\\beta$ and $\\gamma$ are empirical constants.\n",
    "\n",
    "$\\gamma$ is the recovery rate, and the average infectious period is $\\gamma^{-1}$.\n",
    "$\\beta$ is the transmission parameter.\n",
    "$\\beta$ is much harder to estimate than $\\gamma$, and so it is advantageous to work with a scaled model where $\\beta$ is scaled away.\n",
    "\n",
    "It makes sense to scale $S$, $I$, and $R$ by $S(0)$. This would give us: $$\\bar{S}=\\frac{S}{S(0)},$$ $$\\bar{I}=\\frac{I}{S(0)},$$ $$\\bar{R}=\\frac{R}{S(0)},$$\n",
    "\n",
    "Introducing $\\bar{t}=\\frac{t}{t_c}$, we arrive at the equations:\n",
    "$$\\frac{d\\bar{S}}{d\\bar{t}}= -t_cS(0)\\beta\\bar{S}\\bar{I},$$\n",
    "$$\\frac{d\\bar{I}}{d\\bar{t}}= t_cS(0)\\beta\\bar{S}\\bar{I}-t_c \\gamma\\bar{I},$$\n",
    "$$\\frac{d\\bar{R}}{d\\bar{t}}= t_c\\gamma \\bar{I},$$\n",
    "\n",
    "with initial conditions $\\bar{S}(0)=1$, $\\bar{I}(0)=\\frac{I_0}{S(0)}= \\alpha$, $\\bar{R}(0)= \\frac{R(0)}{S(0)}$. In most circumstances, $R(0)= 0$\n",
    "\n",
    "Let's make $t_c = \\frac{1}{\\gamma}$, a time unit equal to the time it takes to move from Infected to Recovered. We end up with the scaled model:\n",
    "\n",
    "$$\\frac{d\\bar{S}}{d\\bar{t}}= -R_0 \\bar{S} \\bar{I},$$\n",
    "$$\\frac{d\\bar{I}}{d\\bar{t}}= R_0 \\bar{S} \\bar{I}-\\bar{I},$$\n",
    "$$\\frac{d\\bar{R}}{d\\bar{t}}= \\bar{I},$$\n",
    "\n",
    "with $\\bar{S}(0)=1$, $\\bar{I}(0)= \\alpha$, $\\bar{R}(0)=R_0$ as the dimensionless number:\n",
    "$$ R_0 = \\frac{S(0)\\beta}{\\gamma}$$\n",
    "\n",
    "We can see from these dimensionless equations that $R_0$ represents the disease's ability to spread. This is an important dimensionless quality known as the basic reproduction number, which reflects the number of infected people caused by one infection individual during the time period of the disease. (Langtangen and Pedersen 2016), (Haran 2009)."
   ]
  },
  {
   "cell_type": "markdown",
   "metadata": {},
   "source": [
    "## Graph Theory, Networks and Disease Propagation\n",
    "\n",
    "There are a lot of ways to use graph theory in modeling disease propagation. One method is to a graph where the patients are nodes and their social connections are edges. The edges can be weighted to represent the strength of their social interactions. We can also weight the edges based on how frequently they interact, or how close together they live, for example.\n",
    "\n",
    "In our graph model, disease is transmitted fastest along the shortest paths.\n",
    "\n",
    "We can use graphs to find the source of infection, by tracing backwards from the most rescently infected. More interestingly for our high school example, we can use the graph to model the spread of disease within friendship groups, between classes, and from students to teachers. If we can model the spread, then we can find the central nodes which have the highest liklihood of spreading disease to either new subsections of the population, or of spreading disease in general.\n",
    "\n",
    "We can also use graph theory to address the issue of optimizing vaccinations. We can do this by ranking the nodes by their connectivity (popularity), and then recursively testing how the spread of disease would change if the most popular node was vaccinated, or the second most popular, or the third, etc. or combinations of one, two, three etc. most popular nodes were vaccinated. We want to limit the number of vaccinations given while minimizing the potential spread.\n",
    "\n",
    "I am going to model a very simplified version of the high school example.\n",
    "The nodes represent students, and the edges represent the number of times the students come within 3 meters of each other in a 1 hour period. The blue numbers represent how many other nodes that node is connected to. In order to avoid cluttering the graph, I have only numbered the three most popular students.\n",
    "\n",
    "![ALTERNATIVE TEXT](graph2.png)\n",
    "\n",
    "We want to find out which students we should vaccinate in order to stop the spread of disease. We can say that the disease will spread to the next student if they encounter an infected student more than 3 times.\n",
    "\n",
    "For our first iteration, all students are in the Susceptable group, and none are immune.\n",
    "Student A comes to school with the flu.\n",
    "\n",
    "![ALTERNATIVE TEXT](gif.gif)\n",
    "\n",
    " \n",
    "\n",
    "## Heard Immunity, Vaccinations and Optimizations\n",
    "\n",
    "\n"
   ]
  },
  {
   "cell_type": "code",
   "execution_count": null,
   "metadata": {
    "collapsed": true
   },
   "outputs": [],
   "source": []
  }
 ],
 "metadata": {
  "anaconda-cloud": {},
  "kernelspec": {
   "display_name": "Python [default]",
   "language": "python",
   "name": "python2"
  },
  "language_info": {
   "codemirror_mode": {
    "name": "ipython",
    "version": 2
   },
   "file_extension": ".py",
   "mimetype": "text/x-python",
   "name": "python",
   "nbconvert_exporter": "python",
   "pygments_lexer": "ipython2",
   "version": "2.7.12"
  }
 },
 "nbformat": 4,
 "nbformat_minor": 2
}
